{
 "cells": [
  {
   "cell_type": "code",
   "execution_count": 20,
   "id": "257f976b",
   "metadata": {},
   "outputs": [
    {
     "name": "stdout",
     "output_type": "stream",
     "text": [
      "Conexão bem sucedida ao banco de dados: dbPrimeiroAno\n"
     ]
    },
    {
     "name": "stderr",
     "output_type": "stream",
     "text": [
      "C:\\Users\\gabrielvigna-IEG\\AppData\\Local\\Temp\\ipykernel_24276\\1188075776.py:16: UserWarning: pandas only supports SQLAlchemy connectable (engine/connection) or database string URI or sqlite3 DBAPI2 connection. Other DBAPI2 objects are not tested. Please consider using SQLAlchemy.\n",
      "  df = pd.read_sql_query(query, conecta)\n"
     ]
    },
    {
     "name": "stdout",
     "output_type": "stream",
     "text": [
      "DataFrame criado com sucesso para a tabela: empresa\n",
      "Conexão encerrada.\n",
      "Conexão bem sucedida ao banco de dados: dbPrimeiroAno\n",
      "DataFrame criado com sucesso para a tabela: usuario\n",
      "Conexão encerrada.\n",
      "\n",
      "Tabela: Empresa\n",
      "   id             nome                     cnpj                 email               telefone      segmento  porte             regradenegocio                    rua          complemento         cidade         estado    cep     horario_abertura horario_encerramento\n",
      "0   1  Indústria Metais Leves S.A.  12.345.678/0001-99  contato@metaisleves.com  (11) 4455-6677  Metalurgia  Médio  Foco em produção B2B e exportação.  Av. Industrial, 1500   Galpão 3   São Bernardo do Campo   SP    09870-123     07:00:00           17:00:00      \n",
      "\n",
      "Tabela: Usuário\n",
      "   id      nome            cpf       genero status        senha         fk_setor_id  fk_supervisor_id\n",
      "0   1  Carlos Ferraz  111.222.333-44    M    Ativo   hash_senha_carlos       1              NaN      \n",
      "1   2      Ana Souza  555.666.777-88    F    Ativo      hash_senha_ana       1              1.0      \n",
      "2   3   Roberto Lima  999.888.777-66    M    Ativo  hash_senha_roberto       2              NaN      \n"
     ]
    }
   ],
   "source": [
    "# Importar as funções necessárias\n",
    "import pandas as pd\n",
    "import conexao as c\n",
    "import random\n",
    "# Função para obter o DataFrame\n",
    "def get_dataframe(nome_tabela):\n",
    "    conecta = None\n",
    "    try:\n",
    "        #estabelece a conexão\n",
    "        conecta = c.conn()\n",
    "        if conecta is None:\n",
    "            raise Exception(\"Falha ao conectar ao banco de dados.\")\n",
    "        \n",
    "        # Executar a consulta SQL\n",
    "        query = f\"SELECT * FROM {nome_tabela};\"\n",
    "        df = pd.read_sql_query(query, conecta)\n",
    "        print(f\"DataFrame criado com sucesso para a tabela: {nome_tabela}\")\n",
    "        return df\n",
    "    except Exception as e:\n",
    "        print(f\"Erro ao criar DataFrame para a tabela {nome_tabela}: {e}\")\n",
    "        return None\n",
    "    finally:\n",
    "        #Fecha a conexão\n",
    "        if conecta:\n",
    "            c.desconecta(conecta)\n",
    "\n",
    "# Configurar opções para exibir os DataFrames\n",
    "pd.set_option('display.max_columns', None)  # Exibe todas as colunas\n",
    "pd.set_option('display.max_rows', 20)       # Exibe até 20 linhas\n",
    "pd.set_option('display.width', 1000)        # Ajusta a largura da tabela\n",
    "pd.set_option('display.colheader_justify', 'center')  # Centraliza os titulos das colunas\n",
    "\n",
    "#transformando em dataframe\n",
    "df_empresa = get_dataframe('empresa')\n",
    "df_usuario = get_dataframe('usuario')\n",
    "\n",
    "#print dos Dataframes\n",
    "if df_empresa is not None:\n",
    "    print(\"\\nTabela: Empresa\")\n",
    "    print(df_empresa)\n",
    "\n",
    "if df_usuario is not None:\n",
    "    print(\"\\nTabela: Usuário\")\n",
    "    print(df_usuario)\n",
    "\n",
    "\n"
   ]
  },
  {
   "cell_type": "code",
   "execution_count": 21,
   "id": "02275f4a",
   "metadata": {},
   "outputs": [
    {
     "name": "stdout",
     "output_type": "stream",
     "text": [
      "\n",
      "Tabela: Usuário Anonimizado\n",
      "   id    nome        cpf      genero status  senha    fk_setor_id  fk_supervisor_id\n",
      "0   1  Usuario_1  35144248888    M    Ativo  Senha_1       1              NaN      \n",
      "1   2  Usuario_2  97186994942    F    Ativo  Senha_2       1              1.0      \n",
      "2   3  Usuario_3  56946865674    M    Ativo  Senha_3       2              NaN      \n"
     ]
    }
   ],
   "source": [
    "# -------- Funções de anonimização --------\n",
    "def anonimizarUsuario(df):\n",
    "    try:\n",
    "        if df is None or df.empty:\n",
    "            raise ValueError(\"O DataFrame está vazio ou nulo.\")\n",
    "\n",
    "        df['nome'] = [f'Usuario_{i+1}' for i in range(len(df))]\n",
    "        # CPF como número válido\n",
    "        df['cpf'] =  [str(random.randint(10000000000, 99999999999)) for _ in range(len(df))]\n",
    "        df['senha'] = [f'Senha_{i+1}' for i in range(len(df))]\n",
    "    except Exception as e:\n",
    "        print(f'Um Erro inesperado ocorreu....{e}')\n",
    "        return None\n",
    "    return df\n",
    "\n",
    "\n",
    "\n",
    "# -------- Aplicando anonimização nos dados vindos do SQL --------\n",
    "df_Usuario_Anonimizado = anonimizarUsuario(df_usuario)\n",
    "if df_Usuario_Anonimizado is not None:\n",
    "    print(\"\\nTabela: Usuário Anonimizado\")\n",
    "    print(df_Usuario_Anonimizado)\n"
   ]
  },
  {
   "cell_type": "code",
   "execution_count": null,
   "id": "076ddfec",
   "metadata": {},
   "outputs": [],
   "source": []
  },
  {
   "cell_type": "code",
   "execution_count": 26,
   "id": "ea2e83c9",
   "metadata": {},
   "outputs": [
    {
     "name": "stdout",
     "output_type": "stream",
     "text": [
      "\n",
      "Tabela: Empresa Anonimizado\n",
      "   id    nome      cnpj         email          telefone       rua            complemento             cidade      estado  cep  \n",
      "0   1  Empresa_1  Cnpj_1  empresa1@email.com  Telefone_1  Rua_Empresa_1  Complemento_Empresa_1  Cidade_Empresa_1   SP    Cep_1\n"
     ]
    }
   ],
   "source": [
    "# -------- Funções de anonimização --------\n",
    "def anonimizarEmpresa(df):\n",
    "    try:\n",
    "        if df is None or df.empty:\n",
    "            raise ValueError(\"O DataFrame não pode ser vazio.\")\n",
    "\n",
    "        df['nome'] = [f'Empresa_{i+1}' for i in range(len(df))]\n",
    "        df['cnpj'] = [f'Cnpj_{i+1}' for i in range(len(df))]\n",
    "        df['email'] = [f'empresa{i+1}@email.com' for i in range(len(df))]\n",
    "        df['telefone'] = [f'Telefone_{i+1}' for i in range(len(df))]\n",
    "        df['rua'] = [f'Rua_Empresa_{i+1}' for i in range(len(df))]\n",
    "        df['complemento'] = [f'Complemento_Empresa_{i+1}' for i in range(len(df))]\n",
    "        df['cidade'] = [f'Cidade_Empresa_{i+1}' for i in range(len(df))]\n",
    "        df['estado'] = [df.loc[i, 'estado'] for i in range(len(df))]\n",
    "        df['cep'] = [f'Cep_{i+1}' for i in range(len(df))]\n",
    "\n",
    "        # Seleciona apenas as colunas que existem na tabela de destino\n",
    "        colunas_esperadas = ['id', 'nome', 'cnpj', 'email', 'telefone', 'rua', 'complemento', 'cidade', 'estado', 'cep']\n",
    "        df = df[colunas_esperadas]\n",
    "\n",
    "        return df\n",
    "\n",
    "    except Exception as e:\n",
    "        print(f\"Um erro inesperado ocorreu... {e}\")\n",
    "        return None\n",
    "\n",
    "\n",
    "\n",
    "# -------- Aplicando anonimização nos dados vindos do SQL -------\n",
    "\n",
    "\n",
    "df_empresa_anonimizado = anonimizarEmpresa(df_empresa)\n",
    "if df_empresa_anonimizado is not None:\n",
    "    print(\"\\nTabela: Empresa Anonimizado\")\n",
    "    print(df_empresa_anonimizado)"
   ]
  },
  {
   "cell_type": "code",
   "execution_count": 27,
   "id": "5104e11e",
   "metadata": {},
   "outputs": [
    {
     "name": "stdout",
     "output_type": "stream",
     "text": [
      "Conexão bem sucedida ao banco de dados: dbPrimeiroAno\n",
      "Dados enviados com sucesso para a tabela usuario_anonimizado.\n",
      "Conexão encerrada.\n",
      "Conexão bem sucedida ao banco de dados: dbPrimeiroAno\n",
      "Erro ao inserir linha (1, 'Empresa_1', 'Cnpj_1', 'empresa1@email.com', 'Telefone_1', 'Rua_Empresa_1', 'Complemento_Empresa_1', 'Cidade_Empresa_1', 'SP', 'Cep_1'): duplicate key value violates unique constraint \"empresa_anonimizada_pkey\"\n",
      "DETAIL:  Key (id)=(1) already exists.\n",
      "\n",
      "Dados enviados com sucesso para a tabela Empresa_anonimizada.\n",
      "Conexão encerrada.\n"
     ]
    }
   ],
   "source": [
    "def enviar_para_banco(df, nome_tabela):\n",
    "    conecta = None\n",
    "    try:\n",
    "        if df is None or df.empty:\n",
    "            print(f\"O DataFrame para {nome_tabela} está vazio.\")\n",
    "            return\n",
    "        \n",
    "        conecta = c.conn()\n",
    "        if conecta is None:\n",
    "            print(\"Falha ao conectar ao banco de dados.\")\n",
    "            return\n",
    "        \n",
    "        cursor = conecta.cursor()\n",
    "        colunas = ', '.join(df.columns)\n",
    "        placeholders = ', '.join(['%s'] * len(df.columns))\n",
    "        query = f\"INSERT INTO {nome_tabela} ({colunas}) VALUES ({placeholders})\"\n",
    "        \n",
    "        # Inserir linha por linha\n",
    "        for row in df.itertuples(index=False, name=None):\n",
    "            try:\n",
    "                cursor.execute(query, row)\n",
    "            except Exception as e:\n",
    "                print(f\"Erro ao inserir linha {row}: {e}\")\n",
    "                conecta.rollback()  # desfaz apenas essa linha\n",
    "        conecta.commit()\n",
    "        print(f\"Dados enviados com sucesso para a tabela {nome_tabela}.\")\n",
    "    \n",
    "    except Exception as e:\n",
    "        print(f\"Erro ao enviar dados para {nome_tabela}: {e}\")\n",
    "        if conecta:\n",
    "            conecta.rollback()\n",
    "    finally:\n",
    "        if conecta:\n",
    "            c.desconecta(conecta)\n",
    "\n",
    "\n",
    "# -------- Enviar os DataFrames anonimizados --------\n",
    "enviar_para_banco(df_Usuario_Anonimizado, 'usuario_anonimizado')\n",
    "enviar_para_banco(df_empresa_anonimizado, 'Empresa_anonimizada')"
   ]
  }
 ],
 "metadata": {
  "kernelspec": {
   "display_name": "Python 3",
   "language": "python",
   "name": "python3"
  },
  "language_info": {
   "codemirror_mode": {
    "name": "ipython",
    "version": 3
   },
   "file_extension": ".py",
   "mimetype": "text/x-python",
   "name": "python",
   "nbconvert_exporter": "python",
   "pygments_lexer": "ipython3",
   "version": "3.11.2"
  }
 },
 "nbformat": 4,
 "nbformat_minor": 5
}
