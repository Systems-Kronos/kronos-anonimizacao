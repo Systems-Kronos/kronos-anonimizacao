{
 "cells": [
  {
   "cell_type": "code",
   "execution_count": 28,
   "id": "257f976b",
   "metadata": {},
   "outputs": [
    {
     "name": "stdout",
     "output_type": "stream",
     "text": [
      "Conexão bem sucedida.\n",
      "Ocorreu um erro: relation \"usuario\" does not exist\n",
      "LINE 1: SELECT * FROM usuario\n",
      "                      ^\n",
      "\n",
      "Conexão encerrada.\n"
     ]
    }
   ],
   "source": [
    "import pandas as pd\n",
    "from conexao import conn, desconecta\n",
    "from dotenv import load_dotenv\n",
    "import os\n",
    "\n",
    "\n",
    "# Conexão\n",
    "connection = conn()\n",
    "\n",
    "try:\n",
    "    cursor = connection.cursor()\n",
    "    cursor.execute(\"SELECT * FROM usuario\")\n",
    "    dados_funcionario = cursor.fetchall()\n",
    "    colunas_funcionario = [desc[0] for desc in cursor.description]\n",
    "    df_funcionario = pd.DataFrame(dados_funcionario, columns=colunas_funcionario)\n",
    "\n",
    "    print(\"\\n--- Funcionario ---\")\n",
    "    print(df_funcionario.head())\n",
    "\n",
    "except Exception as e:\n",
    "    print(f\"Ocorreu um erro: {e}\")\n",
    "\n",
    "finally:\n",
    "    desconecta(connection)      "
   ]
  }
 ],
 "metadata": {
  "kernelspec": {
   "display_name": "base",
   "language": "python",
   "name": "python3"
  },
  "language_info": {
   "codemirror_mode": {
    "name": "ipython",
    "version": 3
   },
   "file_extension": ".py",
   "mimetype": "text/x-python",
   "name": "python",
   "nbconvert_exporter": "python",
   "pygments_lexer": "ipython3",
   "version": "3.11.4"
  }
 },
 "nbformat": 4,
 "nbformat_minor": 5
}
