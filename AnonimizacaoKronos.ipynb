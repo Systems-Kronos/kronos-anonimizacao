{
 "cells": [
  {
   "cell_type": "code",
   "execution_count": null,
   "id": "257f976b",
   "metadata": {},
   "outputs": [
    {
     "ename": "UndefinedTable",
     "evalue": "relation \"empresa\" does not exist\nLINE 1: SELECT * FROM empresa\n                      ^\n",
     "output_type": "error",
     "traceback": [
      "\u001b[1;31m---------------------------------------------------------------------------\u001b[0m",
      "\u001b[1;31mUndefinedTable\u001b[0m                            Traceback (most recent call last)",
      "Cell \u001b[1;32mIn[21], line 9\u001b[0m\n\u001b[0;32m      7\u001b[0m \u001b[38;5;28;01mif\u001b[39;00m connection:\n\u001b[0;32m      8\u001b[0m     query \u001b[38;5;241m=\u001b[39m connection\u001b[38;5;241m.\u001b[39mcursor()\n\u001b[1;32m----> 9\u001b[0m     query\u001b[38;5;241m.\u001b[39mexecute(\u001b[38;5;124m\"\u001b[39m\u001b[38;5;124mSELECT * FROM empresa\u001b[39m\u001b[38;5;124m\"\u001b[39m)\n\u001b[0;32m     10\u001b[0m     dados \u001b[38;5;241m=\u001b[39m query\u001b[38;5;241m.\u001b[39mfetchall()\n\u001b[0;32m     11\u001b[0m     colunas \u001b[38;5;241m=\u001b[39m [desc[\u001b[38;5;241m0\u001b[39m] \u001b[38;5;28;01mfor\u001b[39;00m desc \u001b[38;5;129;01min\u001b[39;00m query\u001b[38;5;241m.\u001b[39mdescription] \n",
      "\u001b[1;31mUndefinedTable\u001b[0m: relation \"empresa\" does not exist\nLINE 1: SELECT * FROM empresa\n                      ^\n"
     ]
    }
   ],
   "source": [
    "import pandas as pd\n",
    "import numpy as np\n",
    "from conexao import conn, desconecta\n",
    "\n",
    "connection = conn()\n",
    "\n",
    "try:\n",
    "    query = connection.cursor()\n",
    "    query.execute(\"SELECT * FROM empresa\")\n",
    "    dados = query.fetchall()\n",
    "    colunas = [desc[0] for desc in query.description] \n",
    "    df_empresa = pd.DataFrame(dados, columns=colunas)\n",
    "    \n",
    "    print(df_empresa.head())\n",
    "    \n",
    "    desconecta(connection)\n",
    "except Exception as e:\n",
    "    print(\"Ocorreu um erro inesperado.\")"
   ]
  }
 ],
 "metadata": {
  "kernelspec": {
   "display_name": "base",
   "language": "python",
   "name": "python3"
  },
  "language_info": {
   "codemirror_mode": {
    "name": "ipython",
    "version": 3
   },
   "file_extension": ".py",
   "mimetype": "text/x-python",
   "name": "python",
   "nbconvert_exporter": "python",
   "pygments_lexer": "ipython3",
   "version": "3.11.4"
  }
 },
 "nbformat": 4,
 "nbformat_minor": 5
}
